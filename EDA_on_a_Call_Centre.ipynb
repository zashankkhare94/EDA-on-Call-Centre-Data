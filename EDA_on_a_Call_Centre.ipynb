{
 "cells": [
  {
   "cell_type": "markdown",
   "id": "c56bbd04",
   "metadata": {},
   "source": [
    "### Introducing Dataset"
   ]
  },
  {
   "cell_type": "markdown",
   "id": "106188eb",
   "metadata": {},
   "source": [
    "#### Problem Background\n",
    "CallIn PLC is a BPO solutions company based in Poland that handles incoming calls for various banks. They have dedicated teams for each of their clients. This case study is about the team that handles incoming calls for Royal Bank of Scotland (RBS) that is one of the banks that employs service solutions of CallIn PLC. \n",
    "\n",
    "RBS Team provides various services:\n",
    "\n",
    "●\tInformation on transactions of checking and saving accounts of existing customers\n",
    "\n",
    "●\tComputer-generated voice information (through VRU = Voice Response Unit) \n",
    "\n",
    "●\tInformation for prospective customers\n",
    "\n",
    "●\tSupport for the customers of RBS’s website (internet customers) \n",
    "\n",
    "Dataset given along with the case study is for the month of February 1999 for one month’s call flow\n"
   ]
  },
  {
   "cell_type": "markdown",
   "id": "2efc7b8f",
   "metadata": {},
   "source": [
    "#### Problem Introduction\n",
    "RBS, being large public sector bank, needs to get its accounts audited periodically for public reporting. During audit, in addition to conduct quarterly, half yearly and annual audits, the Board of Directors of the Bank randomly chose the accounts of a certain year to be audited for in-depth assessment of regularities in processes and accounts. This additional activity is done to ensure:\n",
    "\n",
    "●\tAny past irregularities by the then auditors\n",
    "\n",
    "●\tAny irregularity that was missed in earlier reporting\n",
    "\n",
    "●\tTo account for any unknown/ unaccounted cash excess and/ or shortfall\n"
   ]
  },
  {
   "cell_type": "markdown",
   "id": "071e2768",
   "metadata": {},
   "source": [
    "#### Problem Statement\n",
    "RBS Board has hired services of Brent Associates to audit its accounts and the auditors have sought pay-out details to CallIn PLC. You are working with Brent Associates as data analyst and have been called in the team to render your services and investigate inconsistencies, if any. All information was tallied but the pay-outs given to CallIn PLC for the month of February 1999 were suspiciously incorrect and hence your major task is to audit this information and assess if payout has been accurately done and state exchequer has not been cheated upon. \n",
    "\n",
    "As per historical records, the RBS Team at CallIn PLC constituted of following team in February 1999: \n",
    "\n",
    "●\t8 agent positions\n",
    "\n",
    "●\t1 shift-supervisor position\n",
    "\n",
    "●\t5 agent positions for internet services (in an adjacent room) \n",
    "\n",
    "The team operated for:\n",
    "\n",
    "●\tDuring weekdays (Sunday to Thursday), the call centre is staffed from 7:00am to midnight. \n",
    "\n",
    "●\tDuring weekends (Friday-Saturday), it closes at 14:00 on Friday and reopens at around 20:00 on Saturday. \n",
    "\n",
    "●\tThe automated service (VRU) operates 7 days a week, 24 hours a day.\n",
    "\n",
    "Below is the summary of compensation structure that was contracted between RBS and CallIn PLC in effect during the month of February 1999:\n",
    "\n",
    "●\tFixed Charges: This is the fixed amount a minimum of which will be billed to RBS by CallIn PLC. This is non-negotiable and non-deductible even under the provisions of applied penalties (Refer later part of this section on clarification of penalties applicable on CallIn PLC).\n",
    "\n",
    "o\tOperation sustenance fees: EUR 100,000/ month (The fixed fee is to be billed to RBS every month from the date of billing)\n",
    "\n",
    "o\tMonthly third-party usage charges: This amount is charged in lieu of fixed third party vendors on boarded by CallIn PLC on behalf of RBS including but not limited to Cloud Telephone Services, Internet Connections, Network Maintenance and Server Maintenance Fees, Equipment AMC etc. This flat fee is EUR 20,000/ month\n",
    "\n",
    "●\tVariable Charges:\n",
    "\n",
    "o\tVRU Call charges: These relate to the usage of VRU facility by RBS customers:\n",
    "\n",
    "▪\tCalls handled by VRU are not billed to RBS upto a duration of 120,000 seconds \n",
    "\n",
    "▪\tFrom 120,001st second onwards, VRU calls are charged at EUR 0.5/ second.\n",
    "\n",
    "o\tService Time Charges: This is the main avenue where CallIn PLC generates majority of revenue from the bank. This relates to calls that are transferred and handled by agents. \n",
    "\n",
    "▪\tUpto a total of 30,00,000 seconds, the RBS is billed at EUR 0.5/ second\n",
    "\n",
    "▪\tFrom 30,00,001st minute onwards, the bill is raised at EUR 1/ second.\n",
    "\n",
    "Apart from these charges, certain penalties are agreed and contracted which mandates CallIn PLC to be penalized in case of non-satisfactory servicing of agreement upto the standards of RBS bank:\n",
    "\n",
    "●\tQueuing of customers: RBS does not want its customers to wait in queue for unreasonably long periods. Hence:\n",
    "\n",
    "o\tQueue time <= 1 minute per call is not penalized \n",
    "\n",
    "o\tQueuing time > 1 and <= 3 minutes is penalized at EUR 0.5/ minute. \n",
    "\n",
    "o\tQueuing time > 3 and <= 5 minutes is penalized at EUR 1/ minute. \n",
    "\n",
    "o\tAny queuing time of > 5 minutes is penalized at EUR 2/ minute\n",
    "\n",
    "●\tCall Disconnection: Call disconnection penalty is levied over and above the queuing penalty\n",
    "\n",
    "o\tEvery customer that hangs up the call/ disconnects the call due to non-availability of agents is charged at EUR 10/ instance. These can be found by the calls where outcome is “AGENT” and server is “NO-SERVER”. \n",
    "\n",
    "o\tIf the outcome is “HANG” and server is “NO-SERVER”, the penalty is applied at EUR 5/ instance. These charges are over and above the queue time. \n"
   ]
  },
  {
   "cell_type": "markdown",
   "id": "c8b6c17d",
   "metadata": {},
   "source": [
    "#### Description of Data:\n",
    "\n",
    "vru+line - Alpha numeric\t\n",
    "Each entering phone-call is first routed through a VRU: There are 6 VRUs labelled AA01 to AA06. Each VRU has several lines labelled 1-16. There are a total of 65 lines. Each call is assigned a VRU number and a line number.\n",
    "\n",
    "Call_id\t- Numeric \n",
    "Each entering call is assigned a call id. Although they are different, the id’s are not necessarily consecutive due to being assigned to different VRUs.\n",
    "\n",
    "Customer_id - Numeric\t\n",
    "Upto 12 characters\tThis is the identification number of the caller, which identifies the customer uniquely; the ID is zero if the caller is not identified by the system (as is the case for prospective customers, for example).\n",
    "\n",
    "Priority - Numeric\t\n",
    "The priority is taken from an off-line file. \n",
    "There are two types of customers: (high-)priority and regular:\n",
    "●\t0 and 1 indicate unidentified customers or regular customers (to be elaborated on below)\n",
    "●\t2 indicates priority customers\n",
    "●\tCustomers are served in the order of their \"Time in Queue\".\n",
    "●\tPriority customers are allocated at the outset of their call 1.5 minutes of waiting-time (in order to advance their position in the queue.) They are also exempt from paying a NIS 7 monthly fee, which regular customers must pay.\n",
    "●\tCustomers have not been told about the existence of priorities.\n",
    "●\tUntil August 1996, all the customers had the same priority - 0. Priorities 1 and 2 were introduced in August 1st, 1996. There still are 0 priority customers, but they are treated as Priority 1. (As we understand it, priority 0 corresponds to those customers that were assigned priority 0 before August 1st and whose priority has not been upgraded.)\n",
    "●\tDue to a system bug, customer I.D. was not recorded for those who did not wait in queue; hence, their priority is 0.\n",
    "\n",
    "Type - Text\t\n",
    "There are 6 different types of services: \n",
    "●\tPS - regular activity\n",
    "●\tPE - regular activity in English\n",
    "●\tIN - internet consulting\n",
    "●\tNE -stock exchange activity\n",
    "●\tNW - potential customer getting information\n",
    "●\tTT – customers who left a message asking the bank to return their call but, while the system returned their call, the calling-agent became busy hence the customers were put on hold in the queue.\n",
    "\n",
    "Date - Numeric\t\n",
    "Year-month-date (YYMMDD)\n",
    "\n",
    "vru_entry - Time\t\n",
    "Time that the phone-call enters the call-center. More specifically, each calling customer must first be identified, which is done by providing the VRU with the customer-id. Hence this is the time the call enters the VRU.\n",
    "\n",
    "vru_exit - Time\t\n",
    "Time of exit from the VRU: either to the queue, or directly to receive service, or to leave the system (abandonment).\n",
    "\n",
    "Q_start - Time\t\n",
    "Time of joining the queue (being put on “hold”). This entry is 00:00:00, for customers who have not reached the queue (abandoned from the VRU).\n",
    "\n",
    "Q_exit - Time\n",
    "Time (in seconds) of exiting the queue: either to receive service or due to abandonment.\n",
    "\n",
    "Outcome - Text\n",
    "There are 3 possible outcomes for each phone call:\n",
    "●\tAGENT – service\n",
    "●\tHANG - hung up\n",
    "●\tPHANTOM - a virtual call to be ignored (unclear to us – fortunately, there are only few of these.)\n",
    "\n",
    "Ser_start - Time\t\n",
    "Time of beginning of service by agent.\n",
    "\n",
    "Ser_exit - Time\t\n",
    "Time of end of service by agent.\n",
    "\n",
    "Server - String\t\n",
    "Name of the agent who served the call. This field is NO_SERVER, if no service was provided.\n"
   ]
  },
  {
   "cell_type": "markdown",
   "id": "d2480532",
   "metadata": {},
   "source": [
    "### Importing Libraries"
   ]
  },
  {
   "cell_type": "code",
   "execution_count": null,
   "id": "a7735c95",
   "metadata": {},
   "outputs": [],
   "source": [
    "import pandas as pd\n",
    "import numpy as np\n",
    "import matplotlib.pyplot as plt\n",
    "%matplotlib inline\n",
    "import seaborn as sns\n",
    "import warnings\n",
    "warnings.simplefilter('ignore')\n",
    "\n",
    "import plotly.express as pe"
   ]
  },
  {
   "cell_type": "markdown",
   "id": "d334c39e",
   "metadata": {},
   "source": [
    "### Loading Dataset"
   ]
  },
  {
   "cell_type": "code",
   "execution_count": null,
   "id": "05738dfc",
   "metadata": {},
   "outputs": [],
   "source": [
    "df = pd.read_csv('february_data.csv')"
   ]
  },
  {
   "cell_type": "code",
   "execution_count": null,
   "id": "cee83f6b",
   "metadata": {},
   "outputs": [],
   "source": [
    "print('Diplaying the first 5 rows of the data :-')\n",
    "df.head(5)"
   ]
  },
  {
   "cell_type": "code",
   "execution_count": null,
   "id": "803998e9",
   "metadata": {},
   "outputs": [],
   "source": [
    "print('Diplaying the last 5 rows of the data :-')\n",
    "df.tail(5)"
   ]
  },
  {
   "cell_type": "code",
   "execution_count": null,
   "id": "7986feaa",
   "metadata": {},
   "outputs": [],
   "source": [
    "print('Displaying the basic informatiion of the data :-\\n')\n",
    "df.info()"
   ]
  },
  {
   "cell_type": "code",
   "execution_count": null,
   "id": "1737d68e",
   "metadata": {},
   "outputs": [],
   "source": [
    "print('Total no. of rows:',df.shape[0])\n",
    "print('Total no. of columns:',df.shape[1])"
   ]
  },
  {
   "cell_type": "code",
   "execution_count": null,
   "id": "e55ac5a3",
   "metadata": {},
   "outputs": [],
   "source": [
    "df['vru'] = df['vru+line'].apply(lambda x : x[0:4])"
   ]
  },
  {
   "cell_type": "code",
   "execution_count": null,
   "id": "c2009724",
   "metadata": {},
   "outputs": [],
   "source": [
    "df['date'].head(5)"
   ]
  },
  {
   "cell_type": "markdown",
   "id": "8a747f16",
   "metadata": {},
   "source": [
    "If we look at the **date** variable, the data format is not clear. Now we'll correct it giving a proper format using a dated_d function in the below cell."
   ]
  },
  {
   "cell_type": "code",
   "execution_count": null,
   "id": "b7cae52c",
   "metadata": {},
   "outputs": [],
   "source": [
    "def date_d(x):\n",
    "    y = str(19*pow(10,len(str(x))) + x)\n",
    "    return y[0:4] + '/'+y[4:6] + '/'+ y[-2:]\n",
    "df['date'] = df['date'].apply(lambda x : date_d(int(x)))"
   ]
  },
  {
   "cell_type": "code",
   "execution_count": null,
   "id": "d65fde13",
   "metadata": {},
   "outputs": [],
   "source": [
    "df['date'].head(5)"
   ]
  },
  {
   "cell_type": "code",
   "execution_count": null,
   "id": "cfe4f9e2",
   "metadata": {},
   "outputs": [],
   "source": [
    "df.dtypes"
   ]
  },
  {
   "cell_type": "markdown",
   "id": "e993bc62",
   "metadata": {},
   "source": [
    "Here, the data types of **['vru_entry', 'vru_exit', 'date', 'q_start', 'q_exit', 'ser_start', 'ser_exit']** variables should be datetime. Now we'll change their data type"
   ]
  },
  {
   "cell_type": "code",
   "execution_count": null,
   "id": "bd85053d",
   "metadata": {},
   "outputs": [],
   "source": [
    "time_variable = ['vru_entry','vru_exit','date','q_start','q_exit','ser_start','ser_exit']\n",
    "for i in time_variable:\n",
    "    df[i] = pd.to_datetime(df[i])"
   ]
  },
  {
   "cell_type": "code",
   "execution_count": null,
   "id": "1e6b6177",
   "metadata": {},
   "outputs": [],
   "source": [
    "df.dtypes"
   ]
  },
  {
   "cell_type": "code",
   "execution_count": null,
   "id": "c57baa03",
   "metadata": {},
   "outputs": [],
   "source": [
    "df['vru_time'] = df['vru_exit']-df['vru_entry']\n",
    "df['vru_time'] = df['vru_time'].apply(lambda x : x.seconds)\n",
    "\n",
    "df['q_time'] = df['q_exit']-df['q_start']\n",
    "df['q_time'] = df['q_time'].apply(lambda x : x.seconds)\n",
    "\n",
    "df['ser_time'] = df['ser_exit']-df['ser_start']\n",
    "df['ser_time'] = df['ser_time'].apply(lambda x : x.seconds)"
   ]
  },
  {
   "cell_type": "code",
   "execution_count": null,
   "id": "2fd14cd7",
   "metadata": {},
   "outputs": [],
   "source": [
    "df.head(5)"
   ]
  },
  {
   "cell_type": "code",
   "execution_count": null,
   "id": "5d635931",
   "metadata": {},
   "outputs": [],
   "source": [
    "col = ['vru_entry','vru_exit','q_start','q_exit','ser_start','ser_exit']\n",
    "for i in col:\n",
    "    df[i] = df[i].apply(lambda x : x.time())"
   ]
  },
  {
   "cell_type": "code",
   "execution_count": null,
   "id": "98c3478e",
   "metadata": {},
   "outputs": [],
   "source": [
    "df.head(5)"
   ]
  },
  {
   "cell_type": "code",
   "execution_count": null,
   "id": "0b138bb2",
   "metadata": {},
   "outputs": [],
   "source": [
    "df['Day_of_Week'] = df['date'].apply(lambda x : x.weekday())"
   ]
  },
  {
   "cell_type": "code",
   "execution_count": null,
   "id": "f999cca4",
   "metadata": {},
   "outputs": [],
   "source": [
    "df['Day_of_Week'].unique()"
   ]
  },
  {
   "cell_type": "code",
   "execution_count": null,
   "id": "b29b4164",
   "metadata": {},
   "outputs": [],
   "source": [
    "def day_week(d):\n",
    "    if d == 0:\n",
    "        return 'Monday'\n",
    "    elif d == 1:\n",
    "        return 'Tuesday'\n",
    "    elif d == 2:\n",
    "        return 'Wednesday'\n",
    "    elif d == 3:\n",
    "        return 'Thusday'\n",
    "    elif d == 4:\n",
    "        return 'Friday'\n",
    "    elif d == 5:\n",
    "        return 'Saturday'\n",
    "    else:\n",
    "        return 'Sunday'"
   ]
  },
  {
   "cell_type": "code",
   "execution_count": null,
   "id": "294a8769",
   "metadata": {},
   "outputs": [],
   "source": [
    "df['Day_of_Week'] = df['Day_of_Week'].apply(lambda x: day_week(x))\n",
    "df['Day_of_Week'].head(5)"
   ]
  },
  {
   "cell_type": "code",
   "execution_count": null,
   "id": "36681344",
   "metadata": {},
   "outputs": [],
   "source": [
    "df.head(5)"
   ]
  },
  {
   "cell_type": "code",
   "execution_count": null,
   "id": "65f656d2",
   "metadata": {},
   "outputs": [],
   "source": [
    "df.tail(5)"
   ]
  },
  {
   "cell_type": "markdown",
   "id": "94fd1e33",
   "metadata": {},
   "source": [
    "#### Detecting Null Values \n",
    "Checking whether the data has any null/np.nan values in it. "
   ]
  },
  {
   "cell_type": "code",
   "execution_count": null,
   "id": "6ab1b822",
   "metadata": {},
   "outputs": [],
   "source": [
    "df.isnull().sum()"
   ]
  },
  {
   "cell_type": "markdown",
   "id": "3548ddfd",
   "metadata": {},
   "source": [
    "As can be seen, the null values is not present in the data."
   ]
  },
  {
   "cell_type": "markdown",
   "id": "c3c63d93",
   "metadata": {},
   "source": [
    "#### Detecting Duplicate Values\n",
    "Now we'll check whether data has any duplicate values in it."
   ]
  },
  {
   "cell_type": "code",
   "execution_count": null,
   "id": "150e1304",
   "metadata": {},
   "outputs": [],
   "source": [
    "df.duplicated(keep = False).sum()"
   ]
  },
  {
   "cell_type": "markdown",
   "id": "0cc546d3",
   "metadata": {},
   "source": [
    "Duplicate values are not present in the data."
   ]
  },
  {
   "cell_type": "markdown",
   "id": "7f371642",
   "metadata": {},
   "source": [
    "#### Checking Unique values present in the each variables"
   ]
  },
  {
   "cell_type": "code",
   "execution_count": null,
   "id": "4b779d58",
   "metadata": {},
   "outputs": [],
   "source": [
    "df['vru+line'].unique()"
   ]
  },
  {
   "cell_type": "markdown",
   "id": "8db1e87e",
   "metadata": {},
   "source": [
    "In the vru+line variable, there are 27 distinct values present in it"
   ]
  },
  {
   "cell_type": "code",
   "execution_count": null,
   "id": "fe1f0b6c",
   "metadata": {},
   "outputs": [],
   "source": [
    "df['priority'].unique()"
   ]
  },
  {
   "cell_type": "markdown",
   "id": "9ebdebca",
   "metadata": {},
   "source": [
    "In the priority variable, there are 3 distinct values present in it"
   ]
  },
  {
   "cell_type": "code",
   "execution_count": null,
   "id": "f82f9f36",
   "metadata": {},
   "outputs": [],
   "source": [
    "df['type'].unique()"
   ]
  },
  {
   "cell_type": "markdown",
   "id": "7f7d64f9",
   "metadata": {},
   "source": [
    "In the type variable, there are 6 distinct values present in it"
   ]
  },
  {
   "cell_type": "code",
   "execution_count": null,
   "id": "33a819cc",
   "metadata": {},
   "outputs": [],
   "source": [
    "df['outcome'].unique()"
   ]
  },
  {
   "cell_type": "markdown",
   "id": "2c50f09c",
   "metadata": {},
   "source": [
    "In the outcome variable, there are 3 distinct values present in it"
   ]
  },
  {
   "cell_type": "code",
   "execution_count": null,
   "id": "43cbc1d0",
   "metadata": {},
   "outputs": [],
   "source": [
    "df['server'].unique()"
   ]
  },
  {
   "cell_type": "markdown",
   "id": "97db08e5",
   "metadata": {},
   "source": [
    "In the server variable, there are 25 distinct values present in it"
   ]
  },
  {
   "cell_type": "markdown",
   "id": "f7cffb32",
   "metadata": {},
   "source": [
    "#### Descriptive Statistics"
   ]
  },
  {
   "cell_type": "markdown",
   "id": "ab76c609",
   "metadata": {},
   "source": [
    "##### 1. Data summary of  VRU_Time, Q_Time, Ser_Time "
   ]
  },
  {
   "cell_type": "code",
   "execution_count": null,
   "id": "fa2c069b",
   "metadata": {},
   "outputs": [],
   "source": [
    "df[['vru_time','q_time','ser_time']].describe()"
   ]
  },
  {
   "cell_type": "markdown",
   "id": "564d5904",
   "metadata": {},
   "source": [
    "Out of above all three variables, \n",
    "1. vru_time has the maximum seconds of call time i.e. 86392 seconds\n",
    "2. ser_time has the maximum value of average call time i.e. 144 seconds\n",
    "3. ser_time has the maximum call time i.e. 4812872.96 seconds"
   ]
  },
  {
   "cell_type": "markdown",
   "id": "52f579f5",
   "metadata": {},
   "source": [
    "##### 2. Grouping data based on VRU Unit i.e. AA01 & AA02"
   ]
  },
  {
   "cell_type": "code",
   "execution_count": null,
   "id": "692a4fb2",
   "metadata": {},
   "outputs": [],
   "source": [
    "df.groupby(['vru'])[['vru_time','q_time','ser_time']].describe().transpose()"
   ]
  },
  {
   "cell_type": "markdown",
   "id": "d0b871f8",
   "metadata": {},
   "source": [
    "Observations:\n",
    "1. Between AA01 & AA02, AA01 has maximum no. of calls i.e. 16892.\n",
    "2. Average voice response time of AA01 is more than that of AA02.\n",
    "3. Queing time of AA02 is more than that of AA01.\n",
    "4. AA01 has more total service time than AA02.\n",
    "\n",
    "\n",
    "    "
   ]
  },
  {
   "cell_type": "markdown",
   "id": "90cf753c",
   "metadata": {},
   "source": [
    "##### 3. Grouping data based on Priority."
   ]
  },
  {
   "cell_type": "code",
   "execution_count": null,
   "id": "8a02223f",
   "metadata": {},
   "outputs": [],
   "source": [
    "df.groupby(['priority'])[['vru_time','q_time','ser_time']].describe().transpose()"
   ]
  },
  {
   "cell_type": "markdown",
   "id": "460435f8",
   "metadata": {},
   "source": [
    "Observations:\n",
    "1. No. of Low priority calls are more than that of High priority calls.\n",
    "2. High Priority call has maximum length of call time in all the categories except service time"
   ]
  },
  {
   "cell_type": "markdown",
   "id": "8e7cf874",
   "metadata": {},
   "source": [
    "##### 4. Grouping data based on Server."
   ]
  },
  {
   "cell_type": "code",
   "execution_count": null,
   "id": "ac61dd17",
   "metadata": {},
   "outputs": [],
   "source": [
    "df.groupby(['server'])[['vru_time','q_time','ser_time']].describe()"
   ]
  },
  {
   "cell_type": "markdown",
   "id": "5ffd793e",
   "metadata": {},
   "source": [
    "Observations:\n",
    "1. Out of all the servers, apart from NO_Server, IDIT has the most no. of calls.\n",
    "2. PINHAS has the highest average service time.\n",
    "3. PINHAS has the least number of calls assigned."
   ]
  },
  {
   "cell_type": "markdown",
   "id": "a379c2b2",
   "metadata": {},
   "source": [
    "##### 5. Grouping data based on Date & WeekDay."
   ]
  },
  {
   "cell_type": "code",
   "execution_count": null,
   "id": "9b54f0a9",
   "metadata": {},
   "outputs": [],
   "source": [
    "df.groupby(['Day_of_Week'])[['vru_time','q_time','ser_time']].describe().T"
   ]
  },
  {
   "cell_type": "code",
   "execution_count": null,
   "id": "74be6913",
   "metadata": {},
   "outputs": [],
   "source": [
    "df.groupby(['date'])['vru_time'].describe()"
   ]
  },
  {
   "cell_type": "markdown",
   "id": "03d8c0e6",
   "metadata": {},
   "source": [
    "Observations:\n",
    "1. On **1999-02-03**, call centre has most no. of calls."
   ]
  },
  {
   "cell_type": "markdown",
   "id": "cb3822ce",
   "metadata": {},
   "source": [
    "##### 6. Grouping data based on Type."
   ]
  },
  {
   "cell_type": "markdown",
   "id": "8661ced1",
   "metadata": {},
   "source": [
    "**Type**:\n",
    "\n",
    "There are 6 different types of services: \n",
    "\n",
    "● PS - regular activity \n",
    "\n",
    "● PE - regular activity in English \n",
    "\n",
    "● IN - internet consulting \n",
    "\n",
    "● NE -stock exchange activity \n",
    "\n",
    "● NW - potential customer getting information \n",
    "\n",
    "● TT – customers who left a message asking the bank to return their call but, while the system returned their call, the calling-agent became busy hence the customers were put on hold in the queue."
   ]
  },
  {
   "cell_type": "code",
   "execution_count": null,
   "id": "5a1cce5a",
   "metadata": {},
   "outputs": [],
   "source": [
    "df.groupby(['type'])[['vru_time','q_time','ser_time']].describe().transpose()"
   ]
  },
  {
   "cell_type": "markdown",
   "id": "0962f1d2",
   "metadata": {},
   "source": [
    "Observations: Out of all the type of services, most no. of calls are for PS-regular activity while least no. of calls are for PE-regular activity in English. "
   ]
  },
  {
   "cell_type": "markdown",
   "id": "5b65d44c",
   "metadata": {},
   "source": [
    "##### 7. Grouping data based on Outcome."
   ]
  },
  {
   "cell_type": "code",
   "execution_count": null,
   "id": "cdf2e01b",
   "metadata": {},
   "outputs": [],
   "source": [
    "df.groupby(['outcome'])[['vru_time','q_time','ser_time']].describe().transpose()"
   ]
  },
  {
   "cell_type": "markdown",
   "id": "060b0aa4",
   "metadata": {},
   "source": [
    "Observations:\n",
    "    Most no. of the calls are transferred to the agent while least no. of calls are transferred to the phantom."
   ]
  },
  {
   "cell_type": "markdown",
   "id": "31466424",
   "metadata": {},
   "source": [
    "### Univariate Analysis:"
   ]
  },
  {
   "cell_type": "markdown",
   "id": "8788b0c6",
   "metadata": {},
   "source": [
    "#### Continuous Variables\n",
    "Plotting Boxplot, Histogram and Distribution plot for the three continuous variables i.e. vru_time, q_time & ser_time."
   ]
  },
  {
   "cell_type": "code",
   "execution_count": null,
   "id": "6a943f6b",
   "metadata": {},
   "outputs": [],
   "source": [
    "figure, axis = plt.subplots(3,3,figsize = (20,20))\n",
    "\n",
    "axis[0,0].hist(df['vru_time'],color=\"orange\")\n",
    "axis[0,0].set_title('Histogram of Voice Response Unit Time')\n",
    "sns.boxplot(x=df['vru_time'], ax=axis[0,1],palette=\"Oranges\")\n",
    "axis[0,1].set_title('Boxplot of Voice Response Unit Time')\n",
    "sns.distplot(df['vru_time'],ax = axis[0,2],color=\"orange\", rug = True)\n",
    "axis[0,2].set_title('Distribution Plot of Voice Response Unit Time')\n",
    "\n",
    "axis[1,0].hist(df['q_time'],color=\"orange\")\n",
    "axis[1,0].set_title('Histogram of Queue Time')\n",
    "sns.boxplot(x=df['q_time'], ax=axis[1,1],palette=\"Oranges\")\n",
    "axis[1,1].set_title('Boxplot of Queue Time')\n",
    "sns.distplot(df['q_time'],ax = axis[1,2],color=\"orange\",rug = True)\n",
    "axis[1,2].set_title('Distribution Plot of Queue Time')\n",
    "\n",
    "axis[2,0].hist(df['ser_time'],color=\"orange\")\n",
    "axis[2,0].set_title('Histogram of Service Time')\n",
    "sns.boxplot(x=df['ser_time'], ax=axis[2,1],palette=\"Oranges\")\n",
    "axis[2,1].set_title('Boxplot of Service Time')\n",
    "sns.distplot(df['ser_time'],ax = axis[2,2],color=\"orange\", rug = True)\n",
    "axis[2,2].set_title('Distribution Plot of Service Time')\n"
   ]
  },
  {
   "cell_type": "markdown",
   "id": "d61046c0",
   "metadata": {},
   "source": [
    "**Observations**: \n",
    "\n",
    "    -- If we look at the distribution, we can say that, vru_time,q_time & ser_time has skewed distribution curve \n",
    "       towards the right side.\n",
    "    \n",
    "    -- There are outliers present in all three variables."
   ]
  },
  {
   "cell_type": "markdown",
   "id": "fdb17ac5",
   "metadata": {},
   "source": [
    "##### Categorical Variables"
   ]
  },
  {
   "cell_type": "code",
   "execution_count": null,
   "id": "910af1a9",
   "metadata": {},
   "outputs": [],
   "source": [
    "sns.countplot(x ='vru', data = df,color=\"darkorange\")\n",
    "plt.show()"
   ]
  },
  {
   "cell_type": "markdown",
   "id": "f38018ce",
   "metadata": {},
   "source": [
    "**Observation**: Between AA01 & AA02, most no. of the calls attended by the AA01 unit."
   ]
  },
  {
   "cell_type": "code",
   "execution_count": null,
   "id": "4541951a",
   "metadata": {},
   "outputs": [],
   "source": [
    "plt.figure(figsize = (10,4))\n",
    "sns.countplot(x = 'outcome', data = df,color=\"darkorange\")\n",
    "plt.show()"
   ]
  },
  {
   "cell_type": "markdown",
   "id": "b5ae0506",
   "metadata": {},
   "source": [
    "**Observation**: Most no. of the calls transferred to the AGENT while least no. to the PHANTOM."
   ]
  },
  {
   "cell_type": "code",
   "execution_count": null,
   "id": "e1c4d3b6",
   "metadata": {},
   "outputs": [],
   "source": [
    "sns.countplot(x ='priority', data = df, color = \"darkorange\")\n",
    "plt.show()"
   ]
  },
  {
   "cell_type": "markdown",
   "id": "cd92eb4c",
   "metadata": {},
   "source": [
    "**Observation**: Since here 1 is for low priority & 2 is for high priority, clearly stated that between these two, high priority calls are more."
   ]
  },
  {
   "cell_type": "code",
   "execution_count": null,
   "id": "bc0f2d92",
   "metadata": {},
   "outputs": [],
   "source": [
    "plt.figure(figsize = (10,4))\n",
    "sns.countplot(x ='Day_of_Week', data = df,color=\"darkorange\")\n",
    "plt.show()"
   ]
  },
  {
   "cell_type": "markdown",
   "id": "5d37f595",
   "metadata": {},
   "source": [
    "**Observation**: Since during weekends (Friday-Saturday), it closes at 14:00 on Friday and reopens at around 20:00 on Saturday. Therefore, no. of calls are less on Friday & Saturday. Most of the numbers of calls are on Tuesday."
   ]
  },
  {
   "cell_type": "code",
   "execution_count": null,
   "id": "43fe2022",
   "metadata": {
    "scrolled": false
   },
   "outputs": [],
   "source": [
    "plt.figure(figsize = (20,8))\n",
    "sns.countplot(x ='type', data = df,color=\"salmon\", facecolor=(0, 0, 0, 0),linewidth=10,edgecolor=sns.color_palette('OrRd', 2))\n",
    "plt.show()"
   ]
  },
  {
   "cell_type": "markdown",
   "id": "d8745410",
   "metadata": {},
   "source": [
    "**Observation**: Most no. of calls are come for PS type i.e. for regular activity, while least no. are for PE i.e. regular activity in English."
   ]
  },
  {
   "cell_type": "code",
   "execution_count": null,
   "id": "267b6a46",
   "metadata": {},
   "outputs": [],
   "source": [
    "plt.figure(figsize = (20,8))\n",
    "sns.countplot(x ='server', data = df,color=\"darkorange\", alpha = 0.5)\n",
    "plt.show()"
   ]
  },
  {
   "cell_type": "markdown",
   "id": "3bb5782d",
   "metadata": {},
   "source": [
    "**Observation**: Apart from NO_SERVER, most no. of calls transferred to IDIT"
   ]
  },
  {
   "cell_type": "markdown",
   "id": "2cc3dd3b",
   "metadata": {},
   "source": [
    "#### Bivariate Analysis"
   ]
  },
  {
   "cell_type": "code",
   "execution_count": null,
   "id": "57022154",
   "metadata": {
    "scrolled": false
   },
   "outputs": [],
   "source": [
    "# preparing the variable for the diagram\n",
    "\n",
    "# Type Variable \n",
    "# There are 6 different types of services: \n",
    "#     ● PS - regular activity \n",
    "#     ● PE - regular activity in English \n",
    "#     ● IN - internet consulting \n",
    "#     ● NE -stock exchange activity \n",
    "#     ● NW - potential customer getting information\n",
    "#     ● TT – customers who left a message asking the bank to return their call but, \n",
    "#            while the system returned their call, the calling-agent became busy \n",
    "#            hence the customers were put on hold in the queue.\n",
    "\n",
    "\n",
    "data = df\n",
    "def calculate_percentage (priority_count, total_count,label):\n",
    "    print (\"Percentage of High Priority Calls for Type {} is {} %\".format(label,round(((total_count * 100) / priority_count),2)))\n",
    "\n",
    "type_ = ['PS', 'NW', 'NE', 'PE', 'TT', 'IN']\n",
    "type_cat = []\n",
    "type_priority = []\n",
    "for var in type_:\n",
    "    x = df['type'][data['type']==var].count()\n",
    "    y = df['type'][(df['type']==var)&(df['priority']==2)].count()\n",
    "    type_cat.append(x)\n",
    "    type_priority.append(y)\n",
    "\n",
    "_Server_Range = [x for x in range(1,len(type_)+1)]\n",
    "plt.figure(figsize=(25,10))\n",
    "plt.bar(type_ , type_cat,color='grey')\n",
    "plt.bar(type_ , type_priority,color='pink', alpha = 0.7)\n",
    "plt.title('Relation b/w Type & Priority calls', fontsize = 20)\n",
    "plt.show()\n",
    "print('Out of all the calls, percentage of High Priority calls for each call types of services:\\n')\n",
    "for i in range(len(type_cat)):\n",
    "    calculate_percentage(type_cat[i],type_priority[i],type_[i])"
   ]
  },
  {
   "cell_type": "code",
   "execution_count": null,
   "id": "7b2fe959",
   "metadata": {},
   "outputs": [],
   "source": [
    "type_ = ['PS', 'NW', 'NE', 'PE', 'TT', 'IN']\n",
    "print('Out of total High Priority calls, the percentages of calls transferred to different service types are:\\n')\n",
    "for var in type_:\n",
    "    x = round(100.00*df[df['priority'] == 2][df['type'] == var]['type'].count()/df[df['priority'] == 2].shape[0],2)\n",
    "    print('{}% of total High Priority calls are came for {} service type.'.format(x,var))"
   ]
  },
  {
   "cell_type": "markdown",
   "id": "d7f03ba0",
   "metadata": {},
   "source": [
    "**Observations**: Most no. of calls came for the PS type i.e. Regular Activity while the second most no. of calls came for NE i.e. Stock Exchange type. Also,IN type has least no. of calls."
   ]
  },
  {
   "cell_type": "code",
   "execution_count": null,
   "id": "39c71d89",
   "metadata": {},
   "outputs": [],
   "source": [
    "# preparing the vairable for the diagram\n",
    "server_ = ['DORIT', 'TOVA', 'MICHAL', 'KAZAV', 'YITZ', 'ZOHARI',\n",
    "       'YIFAT', 'GILI', 'DARMON', 'ANAT', 'AVNI', 'IDIT', 'BENSION',\n",
    "       'SHLOMO', 'AVIDAN', 'PINHAS', 'BASCH', 'SHARON', 'ELI', 'NAAMA',\n",
    "       'GELBER', 'MIKI', 'MORIAH', 'STEREN']\n",
    "\n",
    "data = df\n",
    "def calculate_percentage (priority_count, total_count,label):\n",
    "    print (\"Percentage of High Priority Calls attended by {} is {} %\".format(label,round(((total_count * 100) / priority_count),2)))\n",
    "\n",
    "server_cat = []\n",
    "server_priority = []\n",
    "for var in server_:\n",
    "    x = df['server'][data['server']==var].count()\n",
    "    y = df['server'][(df['server']==var)&(df['priority']==2)].count()\n",
    "    server_cat.append(x)\n",
    "    server_priority.append(y)\n",
    "\n",
    "_Server_Range = [x for x in range(1,len(server_)+1)]\n",
    "plt.figure(figsize=(25,10))\n",
    "plt.bar(server_ , server_cat,color='grey')\n",
    "plt.bar(server_ , server_priority,color='yellow', alpha = 0.7)\n",
    "plt.title('Relation b/w Server & Priority calls', fontsize = 20)\n",
    "plt.show()\n",
    "print('Between High and Low, the percentage of High Priority calls attended by different servers:\\n')\n",
    "for i in range(len(server_cat)):\n",
    "    calculate_percentage(server_cat[i],server_priority[i],server_[i])"
   ]
  },
  {
   "cell_type": "code",
   "execution_count": null,
   "id": "0653fb84",
   "metadata": {},
   "outputs": [],
   "source": [
    "server_ = ['DORIT', 'TOVA', 'MICHAL', 'KAZAV', 'YITZ', 'ZOHARI',\n",
    "       'YIFAT', 'GILI', 'DARMON', 'ANAT', 'AVNI', 'IDIT', 'BENSION',\n",
    "       'SHLOMO', 'AVIDAN', 'PINHAS', 'BASCH', 'SHARON', 'ELI', 'NAAMA',\n",
    "       'GELBER', 'MIKI', 'MORIAH', 'STEREN']\n",
    "print('Out of total High Priority calls, the percentages of calls transferred to different servers are:\\n')\n",
    "for var in server_:\n",
    "    x = round(100.00*df[df['priority'] == 2][df['server'] == var]['server'].count()/df[df['priority'] == 2].shape[0],2)\n",
    "    print('{}% of total High Priority calls are transfered to {} server.'.format(x,var))"
   ]
  },
  {
   "cell_type": "code",
   "execution_count": null,
   "id": "b5440cc5",
   "metadata": {},
   "outputs": [],
   "source": [
    "df['Day_of_Week'].unique()"
   ]
  },
  {
   "cell_type": "code",
   "execution_count": null,
   "id": "a040e68c",
   "metadata": {},
   "outputs": [],
   "source": [
    "# preparing the vairable for the diagram\n",
    "weekday_ = ['Monday', 'Tuesday', 'Wednesday', 'Thusday', 'Friday', 'Saturday','Sunday']\n",
    "\n",
    "data = df\n",
    "def calculate_percentage (priority_count, total_count,label):\n",
    "    print (\"Percentage of High Priority Calls attended on {} is {} %\".format(label,round(((total_count * 100) / priority_count),2)))\n",
    "\n",
    "day_cat = []\n",
    "day_priority = []\n",
    "for var in weekday_:\n",
    "    x = df['Day_of_Week'][data['Day_of_Week']==var].count()\n",
    "    y = df['Day_of_Week'][(df['Day_of_Week']==var)&(df['priority']==2)].count()\n",
    "    day_cat.append(x)\n",
    "    day_priority.append(y)\n",
    "\n",
    "_Day_Range = [x for x in range(1,len(weekday_)+1)]\n",
    "plt.figure(figsize=(25,10))\n",
    "plt.bar(weekday_ , day_cat,color='grey')\n",
    "plt.bar(weekday_ , day_priority,color='yellow', alpha = 0.7)\n",
    "plt.title('Relation b/w Day of Week & Priority calls', fontsize = 20)\n",
    "plt.show()\n",
    "\n",
    "for i in range(len(day_cat)):\n",
    "    calculate_percentage(day_cat[i],day_priority[i],weekday_[i])"
   ]
  },
  {
   "cell_type": "code",
   "execution_count": null,
   "id": "94b80fa6",
   "metadata": {
    "scrolled": false
   },
   "outputs": [],
   "source": [
    "plt.figure(figsize = (18,10))\n",
    "sns.boxplot( x=\"ser_time\", y='server', data=df)\n",
    "plt.title('Boxplots of Service Time per Agent', fontsize = 15)\n",
    "plt.show()"
   ]
  },
  {
   "cell_type": "markdown",
   "id": "7729cf51",
   "metadata": {},
   "source": [
    "**Observations**: PINHAS has least no. of outliers. We can say that, time of calls has been consistent."
   ]
  },
  {
   "cell_type": "code",
   "execution_count": null,
   "id": "c94bc30e",
   "metadata": {},
   "outputs": [],
   "source": [
    "plt.figure(figsize = (12,6))\n",
    "sns.boxplot( x=\"q_time\", y='outcome', data=df)\n",
    "plt.title('Boxplots of Queuing Time for Outcomes', fontsize = 15)\n",
    "plt.show()"
   ]
  },
  {
   "cell_type": "markdown",
   "id": "fd510d81",
   "metadata": {},
   "source": [
    "**Observations**: PHANTOM has the consistent queuing time length, having least presence of outliers."
   ]
  },
  {
   "cell_type": "code",
   "execution_count": null,
   "id": "0f0631ca",
   "metadata": {},
   "outputs": [],
   "source": [
    "plt.figure(figsize = (12,6))\n",
    "sns.boxplot( x=\"ser_time\", y='outcome', data=df)\n",
    "plt.title('Boxplots of Servicing Time for Outcomes', fontsize = 15)\n",
    "plt.show()"
   ]
  },
  {
   "cell_type": "code",
   "execution_count": null,
   "id": "5aaae417",
   "metadata": {},
   "outputs": [],
   "source": [
    "plt.figure(figsize = (12,6))\n",
    "sns.boxplot( x=\"vru_time\", y='outcome', data=df)\n",
    "plt.title('Boxplots of VRU Time for Outcomes', fontsize = 15)\n",
    "plt.show()"
   ]
  },
  {
   "cell_type": "markdown",
   "id": "0defbfec",
   "metadata": {},
   "source": [
    "#### Multivariate Analysis"
   ]
  },
  {
   "cell_type": "code",
   "execution_count": null,
   "id": "f9ee1633",
   "metadata": {},
   "outputs": [],
   "source": [
    "df_corr = df.corr()\n",
    "plt.figure(figsize = (10,6))\n",
    "sns.heatmap(df_corr)"
   ]
  },
  {
   "cell_type": "code",
   "execution_count": null,
   "id": "1c1ba758",
   "metadata": {},
   "outputs": [],
   "source": [
    "df_corr['ser_time']"
   ]
  },
  {
   "cell_type": "markdown",
   "id": "db9654d3",
   "metadata": {},
   "source": [
    "**Observations**: Only looking at the continuous variables, q_time is positvely co-related while vru_time is negatively co-related to the ser_time"
   ]
  },
  {
   "cell_type": "code",
   "execution_count": null,
   "id": "c17e2b89",
   "metadata": {},
   "outputs": [],
   "source": [
    "sns.pairplot(df, hue = 'priority')"
   ]
  },
  {
   "cell_type": "markdown",
   "id": "fa248be9",
   "metadata": {},
   "source": [
    "**Observations**: No patterns found"
   ]
  },
  {
   "cell_type": "code",
   "execution_count": null,
   "id": "1036c1e4",
   "metadata": {},
   "outputs": [],
   "source": [
    "df.groupby('priority')[['q_time', 'vru_time', 'ser_time']].median().T.plot(kind='barh', figsize=(10,10))"
   ]
  },
  {
   "cell_type": "markdown",
   "id": "ba1ce04e",
   "metadata": {},
   "source": [
    "#### Contigency Table"
   ]
  },
  {
   "cell_type": "code",
   "execution_count": null,
   "id": "1573ae5a",
   "metadata": {},
   "outputs": [],
   "source": [
    "pd.crosstab(df.server,df.priority, margins = True)"
   ]
  },
  {
   "cell_type": "code",
   "execution_count": null,
   "id": "aac10e1e",
   "metadata": {},
   "outputs": [],
   "source": [
    "pd.crosstab(df.type,df.priority, margins = True)"
   ]
  },
  {
   "cell_type": "code",
   "execution_count": null,
   "id": "d522a08d",
   "metadata": {},
   "outputs": [],
   "source": [
    "pd.crosstab(df.Day_of_Week,df.priority, margins = True)"
   ]
  },
  {
   "cell_type": "code",
   "execution_count": null,
   "id": "f6ea6bda",
   "metadata": {},
   "outputs": [],
   "source": [
    "df.groupby('priority')[['q_time', 'vru_time', 'ser_time']].max()"
   ]
  },
  {
   "cell_type": "code",
   "execution_count": null,
   "id": "ca7d0fd3",
   "metadata": {},
   "outputs": [],
   "source": [
    "df.groupby('priority')[['q_time', 'vru_time', 'ser_time']].mean().T"
   ]
  },
  {
   "cell_type": "markdown",
   "id": "9b7a383b",
   "metadata": {},
   "source": [
    "### Audit Report:"
   ]
  },
  {
   "cell_type": "markdown",
   "id": "3695f330",
   "metadata": {},
   "source": [
    "### **Fixed Charges**: \n",
    "\n",
    "This is the fixed amount a minimum of which will be billed to RBS by CallIn PLC. This is non-negotiable and non-deductible even under the provisions of applied penalties (Refer later part of this section on clarification of penalties applicable on CallIn PLC).\n",
    "\n",
    "1. **Operation sustenance fees**: EUR 100,000/ month (The fixed fee is to be billed to RBS every month from the date of billing)\n",
    "\n",
    "2. **Monthly third-party usage charges**: This amount is charged in lieu of fixed third party vendors on boarded by CallIn PLC on behalf of RBS including but not limited to Cloud Telephone Services, Internet Connections, Network Maintenance and Server Maintenance Fees, Equipment AMC etc. This flat fee is EUR 20,000/ month\n",
    "\n",
    "\n",
    "### **Variable Charges**:\n",
    "\n",
    "1. **VRU Call charges**: These relate to the usage of VRU facility by RBS customers:\n",
    "\n",
    "2. Calls handled by VRU are not billed to RBS upto a duration of 120,000 seconds \n",
    "\n",
    "3. From 120,001st second onwards, VRU calls are charged at EUR 0.5/ second.\n",
    "\n",
    "4. **Service Time Charges**: This is the main avenue where CallIn PLC generates majority of revenue from the bank. This relates to calls that are transferred and handled by agents. \n",
    "\n",
    "5. Upto a total of 30,00,000 seconds, the RBS is billed at EUR 0.5/ second\n",
    "\n",
    "6. From 30,00,001st minute onwards, the bill is raised at EUR 1/ second."
   ]
  },
  {
   "cell_type": "code",
   "execution_count": null,
   "id": "9e0ecde3",
   "metadata": {},
   "outputs": [],
   "source": [
    "#VRU Call Charges\n",
    "total_vru_time = df['vru_time'].sum() # Total call time of voice response unit\n",
    "chrg_vru_time = total_vru_time - 120000 # Deducting 120000 since charges will not be there for this time \n",
    "total_vru_chrg = chrg_vru_time*0.5 # Multiplying 0.5 EURO/sec charges to call time\n",
    "\n",
    "print('Total VRU Time(seconds):',total_vru_time, 'sec')\n",
    "print('Chargeble VRU Time(seconds):',chrg_vru_time, 'sec')\n",
    "print('Total VRU Cal Charges @0.5 EUR/seconds:',total_vru_chrg,'EUR')"
   ]
  },
  {
   "cell_type": "code",
   "execution_count": null,
   "id": "c7e0ea8c",
   "metadata": {},
   "outputs": [],
   "source": [
    "#Service Time Charges\n",
    "total_ser_time = df['ser_time'].sum() # Total call time of service given to the customer\n",
    "chrg_0 = 0.5*3000000 # Since upto 30 lacs seconds the charges are 0.5 EURO/sec \n",
    "chrg_1 = (total_ser_time - 3000000)*1 # From 30,00,001st minute onwards, the bill is raised at EUR 1/ second.\n",
    "total_ser_chrg = chrg_0 + chrg_1 # Total service charge\n",
    "print('Total Service Time(seconds):',total_ser_time,'sec')\n",
    "print('Service Call Charges @0.5 EUR/seconds:',chrg_0,'EUR')\n",
    "print('Service Call Charges @1 EUR/seconds:',chrg_1,'EUR')\n",
    "print('Total Service Call Charges:',total_ser_chrg,'EUR')"
   ]
  },
  {
   "cell_type": "markdown",
   "id": "da7d7b04",
   "metadata": {},
   "source": [
    "### Penalties\n",
    "\n",
    "Apart from these charges, certain penalties are agreed and contracted which mandates CallIn PLC to be penalized in case of non-satisfactory servicing of agreement upto the standards of RBS bank:\n",
    "\n",
    "**Queuing of customers**: RBS does not want its customers to wait in queue for unreasonably long periods. Hence:\n",
    "\n",
    "1. Queue time <= 1 minute per call is not penalized \n",
    "\n",
    "2. Queuing time > 1 and <= 3 minutes is penalized at EUR 0.5/ minute. \n",
    "\n",
    "3. Queuing time > 3 and <= 5 minutes is penalized at EUR 1/ minute. \n",
    "\n",
    "4. Any queuing time of > 5 minutes is penalized at EUR 2/ minute\n",
    "\n",
    "5. Call Disconnection: Call disconnection penalty is levied over and above the queuing penalty\n",
    "\n",
    "6. Every customer that hangs up the call/ disconnects the call due to non-availability of agents is charged at EUR 10/ instance. These can be found by the calls where outcome is “AGENT” and server is “NO-SERVER”. \n",
    "\n",
    "7. If the outcome is “HANG” and server is “NO-SERVER”, the penalty is applied at EUR 5/ instance. These charges are over and above the queue time. "
   ]
  },
  {
   "cell_type": "code",
   "execution_count": null,
   "id": "a75e1a12",
   "metadata": {},
   "outputs": [],
   "source": [
    "# no. of instances of the calls where outcome is “AGENT” and server is “NO-SERVER”.\n",
    "penalty_agent = (df[df['outcome']=='AGENT'][df['server']=='NO_SERVER'].shape[0])*10 \n",
    "# no. of instances of the calls where outcome is “HANG” and server is “NO-SERVER”.\n",
    "penalty_hang = (df[df['outcome']=='HANG'][df['server']=='NO_SERVER'].shape[0])*5\n",
    "\n",
    "def queue_penalty(p):\n",
    "    p_min = p/60\n",
    "    val = int(p_min)\n",
    "    if p_min <= 1:\n",
    "        return 0\n",
    "    elif p_min > 1 and p_min <= 3:\n",
    "        return 0.5*val\n",
    "    elif p_min > 3 and p_min <= 5:\n",
    "        return 1*val\n",
    "    elif p_min > 5:\n",
    "        return 2*val\n",
    "    \n",
    "df['q_penalty'] = df['q_time'].apply(lambda x: queue_penalty(x))\n",
    "print('Total penalties:', df['q_penalty'].sum() + penalty_agent + penalty_hang )"
   ]
  },
  {
   "cell_type": "code",
   "execution_count": null,
   "id": "ad75d91b",
   "metadata": {},
   "outputs": [],
   "source": [
    "Fixed_Fee = 100000.00\n",
    "TP_Usage = 20000.00\n",
    "print('SCHEDULE OF PAYMENT TO CALLIN PLC')\n",
    "print('PARTICULARS\\t\\t','AMOUNT(IN EURO)')\n",
    "print('Fixed Fee:\\t\\t',Fixed_Fee)\n",
    "print('TP Usage:\\t\\t',TP_Usage)\n",
    "print('Total Fixed Billing:\\t',Fixed_Fee+TP_Usage)\n",
    "print('VRU Charge:\\t\\t',total_vru_chrg)\n",
    "print('ST Charge:\\t\\t',total_ser_chrg)\n",
    "print('Total Variable Billing:\\t',total_vru_chrg+total_ser_chrg)\n",
    "print('TOTAL BILLED AMOUNT:\\t',total_vru_chrg+total_ser_chrg+Fixed_Fee+TP_Usage)\n",
    "print('q_penalty:\\t\\t',df['q_penalty'].sum())\n",
    "print('cd_penalty:\\t\\t',penalty_agent + penalty_hang)\n",
    "print('Total Penalty:\\t\\t',df['q_penalty'].sum()+penalty_agent + penalty_hang)\n",
    "print('TOTAL PAYABLE:\\t\\t',total_vru_chrg+total_ser_chrg+Fixed_Fee+TP_Usage-df['q_penalty'].sum()-penalty_agent-penalty_hang )"
   ]
  },
  {
   "cell_type": "markdown",
   "id": "4dbb4cd0",
   "metadata": {},
   "source": [
    "**Observations**:\n",
    "\n",
    "1. There are discrepancies in the VRU Charge, q_penalty from the given data.\n",
    "\n",
    "2. The given calculation was incorrect according to the contract.\n",
    "\n",
    "3. Correct Total Payable should be 4579758.5 EURO\n",
    "    "
   ]
  },
  {
   "cell_type": "markdown",
   "id": "cd8bd744",
   "metadata": {},
   "source": [
    "# Questions:"
   ]
  },
  {
   "cell_type": "markdown",
   "id": "414c709c",
   "metadata": {},
   "source": [
    "#### Q1. In given document, CallIn PLC has claimed the employees were recruited in 2 shifts with each shift having total of 13 agents and 1 shift-supervisor. You see an inconsistency in these figures. \n",
    "\n",
    "Chose the correct option from below:\n",
    "1. You don’t see any inconsistency and data is correct\n",
    "2. Count of employees is 25\n",
    "3. Count of employee is 23\n",
    "4. Count of employees is 24\n",
    "\n",
    "**Answer**: Count of employees is 24"
   ]
  },
  {
   "cell_type": "code",
   "execution_count": null,
   "id": "107ca286",
   "metadata": {},
   "outputs": [],
   "source": [
    "len(df[df['outcome'] == 'AGENT']['server'].unique())"
   ]
  },
  {
   "cell_type": "code",
   "execution_count": null,
   "id": "e09027ef",
   "metadata": {},
   "outputs": [],
   "source": [
    "len(df[df['outcome'] == 'AGENT']['server'].unique())-1"
   ]
  },
  {
   "cell_type": "markdown",
   "id": "37c5429e",
   "metadata": {},
   "source": [
    "#### Q2. How many calls for internet consulting were hung up by customer despite the availability of a server:\n",
    "1. 10\n",
    "2. 94\n",
    "3. 0\n",
    "4. 17\n",
    "\n",
    "**Answer**: 0"
   ]
  },
  {
   "cell_type": "code",
   "execution_count": null,
   "id": "152dd3b2",
   "metadata": {},
   "outputs": [],
   "source": [
    "df[(df['server'] != 'NO_SERVER')][(df['outcome'] == 'HANG')][df['type'] == 'IN'].shape[0]"
   ]
  },
  {
   "cell_type": "markdown",
   "id": "6aaccecd",
   "metadata": {},
   "source": [
    "#### Q3. How many Phantom Calls were assigned to the agents?\n",
    "1. 0\n",
    "2. 11\n",
    "3. 278\n",
    "4. 94\n",
    "\n",
    "Hint: Server != No_Server AND outcome == Phantom\n",
    "\n",
    "**Answer**: 0"
   ]
  },
  {
   "cell_type": "code",
   "execution_count": null,
   "id": "02584a3a",
   "metadata": {},
   "outputs": [],
   "source": [
    "df[(df['server'] != 'NO_SERVER')][(df['outcome'] == 'PHANTOM')].shape[0]"
   ]
  },
  {
   "cell_type": "markdown",
   "id": "ea2852ec",
   "metadata": {},
   "source": [
    "#### Q4. Which agent has the highest average service time?\n",
    "1. Pinhas\n",
    "2. Eli\n",
    "3. Avidnan\n",
    "4. Avni\n",
    "\n",
    "Hint: service_time average\n",
    "\n",
    "**Answer**: Pinhas"
   ]
  },
  {
   "cell_type": "code",
   "execution_count": null,
   "id": "0e7cb705",
   "metadata": {},
   "outputs": [],
   "source": [
    "plt.figure(figsize = (16,4))\n",
    "df.groupby(['server'])['ser_time'].mean().sort_values(ascending = False).plot(kind = 'bar', title = 'Average Service Time per Agent')\n",
    "plt.show()"
   ]
  },
  {
   "cell_type": "markdown",
   "id": "3645a4e6",
   "metadata": {},
   "source": [
    "#### Q5. Which agent has the least number of calls assigned?\n",
    "1. Idit\n",
    "2. Tova\n",
    "3. Gelber\n",
    "4. Pinhas\n",
    "\n",
    "Hint: count of number of calls assigned to each agent\n",
    "\n",
    "**Answer**: Pinhas"
   ]
  },
  {
   "cell_type": "code",
   "execution_count": null,
   "id": "4733d5f7",
   "metadata": {},
   "outputs": [],
   "source": [
    "plt.figure(figsize = (16,4))\n",
    "df['server'].value_counts(ascending = True).plot(kind = 'bar', title = 'No. of Calls per Agent')\n",
    "plt.show()"
   ]
  },
  {
   "cell_type": "markdown",
   "id": "36ff37dd",
   "metadata": {},
   "source": [
    "#### Q6. Which agent’s customers had to wait for the longest in order to speak to the agent?\n",
    "1. Naama\n",
    "2. Pinhas\n",
    "3. Gelber\n",
    "4. Darmon\n",
    "\n",
    "Hint: Find q_time for each server\n"
   ]
  },
  {
   "cell_type": "code",
   "execution_count": null,
   "id": "a2fc2923",
   "metadata": {},
   "outputs": [],
   "source": [
    "df_1 = df.loc[df['server'] != 'NO_SERVER']\n",
    "df_1.loc[df_1['q_time']==df_1['q_time'].max()][['server','q_time']]"
   ]
  },
  {
   "cell_type": "code",
   "execution_count": null,
   "id": "1965c0ab",
   "metadata": {},
   "outputs": [],
   "source": [
    "df_1 = df.loc[df['outcome'] == 'AGENT']\n",
    "df_1.groupby(['server'])['q_time'].max().sort_values(ascending = False)"
   ]
  },
  {
   "cell_type": "code",
   "execution_count": null,
   "id": "d93e04ac",
   "metadata": {},
   "outputs": [],
   "source": [
    "df.loc[df['server'] != 'NO_SERVER'][['server','q_time']].sort_values(by = ['q_time'],ascending = False).head(1)"
   ]
  },
  {
   "cell_type": "markdown",
   "id": "862c45c7",
   "metadata": {},
   "source": [
    "#### Q7. Based on description of data, queuing time of Phantom calls should be the highest. Is this assumption correct?\n",
    "1. Yes\n",
    "2. No\n",
    "\n",
    "Hint: Find q_time average for each outcome\n",
    "\n",
    "**Answer**: Yes"
   ]
  },
  {
   "cell_type": "code",
   "execution_count": null,
   "id": "d574c1d6",
   "metadata": {},
   "outputs": [],
   "source": [
    "df.groupby(['outcome'])['q_time'].mean().plot(kind = 'bar', title = 'Average Queuing Time per Outcomes')"
   ]
  },
  {
   "cell_type": "markdown",
   "id": "18a0a31f",
   "metadata": {},
   "source": [
    "#### Q8. Which of the following customers has made maximum number of calls (Chose customer ID)?\n",
    "1. 101030\n",
    "2. 58704610\n",
    "3. 7191646\n",
    "4. 57918849\n",
    "\n",
    "Hint: group by/ pivot\n",
    "\n",
    "**Answer**: 58704610"
   ]
  },
  {
   "cell_type": "code",
   "execution_count": null,
   "id": "d41320e2",
   "metadata": {},
   "outputs": [],
   "source": [
    "df['customer_id'].value_counts(ascending = False)"
   ]
  },
  {
   "cell_type": "markdown",
   "id": "99040253",
   "metadata": {},
   "source": [
    "#### Q9. Calls from which of the following customers have been tagged as Phantom calls most number of times (Chose customer ID)?\n",
    "1. 13408620\n",
    "2. 24442634\n",
    "3. 54613724\n",
    "4. 25627027\n",
    "\n",
    "Hint: groupby customer id/ pivot\n",
    "\n",
    "**Answer**: 13408620\n"
   ]
  },
  {
   "cell_type": "code",
   "execution_count": null,
   "id": "4fb2e344",
   "metadata": {},
   "outputs": [],
   "source": [
    "df[(df['customer_id']!=0.0)][df['outcome']=='PHANTOM']['customer_id'].value_counts(ascending = False).head(1)"
   ]
  },
  {
   "cell_type": "markdown",
   "id": "ace43d76",
   "metadata": {},
   "source": [
    "#### Q10. What percentage of high priority customer calls have been hung?\n",
    "1. 9.97%\n",
    "2. 19.88%\n",
    "3. 20.79%\n",
    "4. 11.02%\n",
    "\n",
    "Hint: count(priority == 2 AND outcome== Hang)\n",
    "\n",
    "**Answer**: 9.97%\n"
   ]
  },
  {
   "cell_type": "code",
   "execution_count": null,
   "id": "332ee71f",
   "metadata": {},
   "outputs": [],
   "source": [
    "print(round(100.0*df[df['priority']==2][df['outcome']=='HANG']['outcome'].count()/df[df['priority']==2]['outcome'].value_counts().sum(),2),'%')"
   ]
  },
  {
   "cell_type": "markdown",
   "id": "30c8f5ba",
   "metadata": {},
   "source": [
    "#### Q11. How many high priority customer calls have been tagged as Phantom?\n",
    "1. 0.3%\n",
    "2. 2.4%\n",
    "3. 1.2%\n",
    "4. 0.8% \n",
    "\n",
    "Hint: count(priority == 2 AND outcome== Phantom)\n",
    "\n",
    "**Answer**: 1.2%"
   ]
  },
  {
   "cell_type": "code",
   "execution_count": null,
   "id": "89c395d2",
   "metadata": {},
   "outputs": [],
   "source": [
    "print(round(100.0*df[(df['priority']==2)][df['outcome']=='PHANTOM'].shape[0]/df[(df['priority']==2)]['outcome'].count(),2),'%')"
   ]
  },
  {
   "cell_type": "markdown",
   "id": "c7319048",
   "metadata": {},
   "source": [
    "#### Q12. Queuing time of high priority customers is shortest.\n",
    "1. True\n",
    "2. False\n",
    "\n",
    "Hint: Average of q_time by priority\n",
    "\n",
    "**Answer**: False\n"
   ]
  },
  {
   "cell_type": "code",
   "execution_count": null,
   "id": "8e6cd2f4",
   "metadata": {},
   "outputs": [],
   "source": [
    "df.groupby(['priority'])['q_time'].mean().plot(kind = 'barh', title = 'Mean Queuing Time vs Priority')"
   ]
  },
  {
   "cell_type": "markdown",
   "id": "f4fbd000",
   "metadata": {},
   "source": [
    "#### Q13. High priority customers are focussed more by the agents with more time spent on servicing them.\n",
    "1. True\n",
    "2. False\n",
    "\n",
    "Hint: Average of ser_time by priority\n",
    "\n",
    "**Answer**: True"
   ]
  },
  {
   "cell_type": "code",
   "execution_count": null,
   "id": "608afa4e",
   "metadata": {},
   "outputs": [],
   "source": [
    "df.groupby(['priority'])['ser_time'].mean().plot(kind = 'barh', title = 'Mean Service Time vs Priority')"
   ]
  },
  {
   "cell_type": "markdown",
   "id": "e503f15e",
   "metadata": {},
   "source": [
    "#### Q14. Average VRU time for high priority customers is the highest.\n",
    "1. True\n",
    "2. False\n",
    "\n",
    "Hint: Average of vru_time by priority\n",
    "\n",
    "**Answer**: False"
   ]
  },
  {
   "cell_type": "code",
   "execution_count": null,
   "id": "6c625340",
   "metadata": {},
   "outputs": [],
   "source": [
    "df.groupby(['priority'])['vru_time'].mean().sort_values(ascending  = True).plot(kind = 'pie', title = 'Distribution of Average VRU Time taken for each type of Priority')"
   ]
  },
  {
   "cell_type": "markdown",
   "id": "944992b5",
   "metadata": {},
   "source": [
    "#### Q15. Which of the following agents have received maximum number of high priority calls:\n",
    "1. Kazav\n",
    "2. Yifat\n",
    "3. Sharon\n",
    "4. Tova\n",
    "\n",
    "Hint: count of priority== 2 by agent (server)\n",
    "\n",
    "**Answer**: Kazav"
   ]
  },
  {
   "cell_type": "code",
   "execution_count": null,
   "id": "ed9b60fe",
   "metadata": {},
   "outputs": [],
   "source": [
    "df[df['priority']==2][df['server']!= 'NO_SERVER']['server'].value_counts(ascending = False).head(1)"
   ]
  },
  {
   "cell_type": "code",
   "execution_count": null,
   "id": "e945c679",
   "metadata": {
    "scrolled": false
   },
   "outputs": [],
   "source": [
    "plt.figure(figsize = (10,6))\n",
    "df[df['priority']==2][df['server']!= 'NO_SERVER']['server'].value_counts(ascending = False).plot(kind='bar', title='No. of High Priority Calls per Server')"
   ]
  },
  {
   "cell_type": "markdown",
   "id": "80c4ec16",
   "metadata": {},
   "source": [
    "#### Submission By:\n",
    "\n",
    "# Zashank Khare"
   ]
  },
  {
   "cell_type": "markdown",
   "id": "8caca327",
   "metadata": {},
   "source": [
    "### Thanks & Happy Learning"
   ]
  },
  {
   "cell_type": "markdown",
   "id": "393b92c8",
   "metadata": {},
   "source": [
    "### Data Profilling"
   ]
  },
  {
   "cell_type": "code",
   "execution_count": null,
   "id": "a1fac4d5",
   "metadata": {},
   "outputs": [],
   "source": [
    "#Method 1: Python time module\n",
    "# importing time module\n",
    "import time\n",
    " \n",
    "start = time.time()\n",
    "print(\"Time Consumed\")\n",
    "print(\"% s seconds\" % (time.time() - start))"
   ]
  },
  {
   "cell_type": "code",
   "execution_count": null,
   "id": "92f8f764",
   "metadata": {},
   "outputs": [],
   "source": [
    "import time\n",
    " \n",
    " \n",
    "def gfg():\n",
    "    start = time.time()\n",
    "    print(\"Time consumed\")\n",
    "    end = time.time()\n",
    "    print(\"gfg() function takes\", end-start, \"seconds\")\n",
    "    print(pow(2,10))\n",
    " \n",
    " \n",
    "# Calling gfg\n",
    "gfg()"
   ]
  },
  {
   "cell_type": "markdown",
   "id": "b7946ad4",
   "metadata": {},
   "source": [
    "#### Method 2: Python line_profiler\n",
    "Python provides a built-in module to measure execution time and the module name is LineProfiler.It gives a detailed report on the time consumed by a program."
   ]
  },
  {
   "cell_type": "code",
   "execution_count": null,
   "id": "6717a300",
   "metadata": {},
   "outputs": [],
   "source": [
    "pip install line_profiler"
   ]
  },
  {
   "cell_type": "code",
   "execution_count": null,
   "id": "fa2c3512",
   "metadata": {},
   "outputs": [],
   "source": [
    "# importing line_profiler module\n",
    "from line_profiler import LineProfiler\n",
    " \n",
    " \n",
    "def Zashank(rk):\n",
    "    print(rk)\n",
    " \n",
    " \n",
    "rk = \"Khare\"\n",
    "profile = LineProfiler(Zashank(rk))\n",
    "profile.print_stats()"
   ]
  },
  {
   "cell_type": "markdown",
   "id": "fef397d0",
   "metadata": {},
   "source": [
    "#### Method 3: Python cProfile\n",
    "Python includes a built-in module called cProfile which is used to measure the execution time of a program. The cProfiler module provides all information about how long the program is executing and how many times the function gets called in a program. The Python cprofile example:"
   ]
  },
  {
   "cell_type": "code",
   "execution_count": null,
   "id": "5a8ce6a2",
   "metadata": {},
   "outputs": [],
   "source": [
    "# importing cProfile\n",
    "import cProfile\n",
    " \n",
    "cProfile.run(\"10 + 10\")"
   ]
  },
  {
   "cell_type": "code",
   "execution_count": null,
   "id": "187d7360",
   "metadata": {},
   "outputs": [],
   "source": [
    "# importing cProfile\n",
    "import cProfile\n",
    " \n",
    " \n",
    "def f():\n",
    "    print(\"hello\")\n",
    " \n",
    " \n",
    "cProfile.run('f()')"
   ]
  },
  {
   "cell_type": "code",
   "execution_count": null,
   "id": "f8451f36",
   "metadata": {},
   "outputs": [],
   "source": [
    "# importing library\n",
    "import cProfile\n",
    "import pstats\n",
    "import io\n",
    "from pstats import SortKey\n",
    " \n",
    "# Creating profile object\n",
    "ob = cProfile.Profile()\n",
    "ob.enable()\n",
    " \n",
    "# As you increase the power time will increase\n",
    "# as per your machine efficiency.\n",
    "num = 18**200000\n",
    " \n",
    "ob.disable()\n",
    "sec = io.StringIO()\n",
    "sortby = SortKey.CUMULATIVE\n",
    "ps = pstats.Stats(ob, stream=sec).sort_stats(sortby)\n",
    "ps.print_stats()\n",
    " \n",
    "print(sec.getvalue())"
   ]
  },
  {
   "cell_type": "code",
   "execution_count": null,
   "id": "b81b3427",
   "metadata": {},
   "outputs": [],
   "source": []
  }
 ],
 "metadata": {
  "kernelspec": {
   "display_name": "Python 3 (ipykernel)",
   "language": "python",
   "name": "python3"
  },
  "language_info": {
   "codemirror_mode": {
    "name": "ipython",
    "version": 3
   },
   "file_extension": ".py",
   "mimetype": "text/x-python",
   "name": "python",
   "nbconvert_exporter": "python",
   "pygments_lexer": "ipython3",
   "version": "3.9.12"
  }
 },
 "nbformat": 4,
 "nbformat_minor": 5
}
